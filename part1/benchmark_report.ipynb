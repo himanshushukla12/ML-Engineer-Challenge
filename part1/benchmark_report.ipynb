{
 "cells": [
  {
   "cell_type": "markdown",
   "id": "0b3fbe34",
   "metadata": {},
   "source": [
    "### Import necessary libraries"
   ]
  },
  {
   "cell_type": "code",
   "execution_count": 10,
   "id": "4da44965",
   "metadata": {},
   "outputs": [],
   "source": [
    "!export TORCH_HOME=.cache/"
   ]
  },
  {
   "cell_type": "code",
   "execution_count": 18,
   "id": "4258ef18-5888-46ed-84eb-3e1ce640bfa8",
   "metadata": {},
   "outputs": [],
   "source": [
    "import torch\n",
    "import torchvision\n",
    "import time\n",
    "import matplotlib.pyplot as plt\n",
    "from torch.utils.data import DataLoader\n",
    "from torchvision import transforms\n",
    "from pathlib import Path\n",
    "import os\n"
   ]
  },
  {
   "cell_type": "code",
   "execution_count": 19,
   "id": "97e43db2",
   "metadata": {},
   "outputs": [],
   "source": [
    "os.environ['TORCH_HOME'] = '.cache/'"
   ]
  },
  {
   "cell_type": "markdown",
   "id": "8ad370c9",
   "metadata": {},
   "source": [
    "### Function to load the DINOv2 model and move it to the specified device (CPU or GPU)"
   ]
  },
  {
   "cell_type": "code",
   "execution_count": 20,
   "id": "a4805c06",
   "metadata": {},
   "outputs": [],
   "source": [
    "def load_dinov2(device):\n",
    "    model = torch.hub.load('facebookresearch/dinov2', 'dinov2_vits14')  # Load DINOv2 model from PyTorch Hub\n",
    "    model = model.to(device)  # Move the model to the specified device\n",
    "    model.eval()  # Set model to evaluation mode\n",
    "    return model"
   ]
  },
  {
   "cell_type": "markdown",
   "id": "2b4fcd2f",
   "metadata": {},
   "source": [
    "### Function to prepare the dataset with the appropriate transformations and data loader"
   ]
  },
  {
   "cell_type": "code",
   "execution_count": 21,
   "id": "20ad14a3",
   "metadata": {},
   "outputs": [],
   "source": [
    "def prepare_data(batch_size=32):\n",
    "    # Define transformations: resize, convert to tensor, and normalize image data\n",
    "    transform = transforms.Compose([\n",
    "        transforms.Resize(224),  # Resize image to 224x224 pixels\n",
    "        transforms.ToTensor(),  # Convert image to a tensor\n",
    "        transforms.Normalize(mean=[0.485, 0.456, 0.406],  # Normalization mean\n",
    "                             std=[0.229, 0.224, 0.225])  # Normalization standard deviation\n",
    "    ])\n",
    "    \n",
    "    # Specify the directory of the dataset\n",
    "    data_dir = Path(\"./tiny-imagenet-200/tiny-imagenet-200/test\")\n",
    "    # Load the dataset and apply transformations\n",
    "    dataset = torchvision.datasets.ImageFolder(data_dir, transform=transform)\n",
    "    # Create a DataLoader for batching and shuffling the data\n",
    "    loader = DataLoader(dataset, batch_size=batch_size, shuffle=False)\n",
    "    return loader"
   ]
  },
  {
   "cell_type": "markdown",
   "id": "c515d5fb",
   "metadata": {},
   "source": [
    "### Function to benchmark the model performance in terms of inference time"
   ]
  },
  {
   "cell_type": "code",
   "execution_count": 22,
   "id": "cb1daa74",
   "metadata": {},
   "outputs": [],
   "source": [
    "def benchmark_model(model, test_loader, device, num_batches=100, use_amp=False):\n",
    "    times = []  # List to store inference times\n",
    "    model = model.to(device)  # Move model to device (CPU/GPU)\n",
    "\n",
    "    with torch.no_grad():  # Disable gradient computation\n",
    "        for i, (images, _) in enumerate(test_loader):  # Iterate over batches\n",
    "            if i >= num_batches:  # Limit the number of batches for benchmarking\n",
    "                break\n",
    "            \n",
    "            images = images.to(device)  # Move images to the specified device\n",
    "            \n",
    "            # Warmup GPU by performing a dummy forward pass on the first batch\n",
    "            if i == 0 and device.type == 'cuda':\n",
    "                _ = model(images)\n",
    "                torch.cuda.synchronize()  # Synchronize GPU operations\n",
    "                continue  # Skip timing for this warmup iteration\n",
    "\n",
    "            start = time.time()  # Start timing\n",
    "            \n",
    "            # Perform inference with mixed precision if use_amp is True\n",
    "            with torch.cuda.amp.autocast(enabled=use_amp):  # Mixed precision context\n",
    "                _ = model(images)\n",
    "                \n",
    "            torch.cuda.synchronize()  # Ensure all GPU operations are finished\n",
    "            end = time.time()  # End timing\n",
    "            \n",
    "            times.append(end - start)  # Record elapsed time\n",
    "    \n",
    "    # Return the average inference time\n",
    "    return sum(times) / len(times)"
   ]
  },
  {
   "cell_type": "markdown",
   "id": "1ebd96a6",
   "metadata": {},
   "source": [
    "### Execute the benchmark process"
   ]
  },
  {
   "cell_type": "code",
   "execution_count": 23,
   "id": "f3fae39f",
   "metadata": {},
   "outputs": [],
   "source": [
    "def main():\n",
    "    # Check if CUDA is available; if not, display an error and exit\n",
    "    if not torch.cuda.is_available():\n",
    "        print(\"CUDA is not available. This script requires a GPU.\")\n",
    "        return\n",
    "\n",
    "    device = torch.device(\"cuda\")  # Set device to GPU\n",
    "    torch.backends.cudnn.benchmark = True  # Enable cuDNN benchmarking for performance\n",
    "    \n",
    "    # Load model and data\n",
    "    model = load_dinov2(device)  # Load DINOv2 model\n",
    "    test_loader = prepare_data()  # Prepare test data loader\n",
    "    \n",
    "    # Benchmark original model in FP32 precision\n",
    "    print(\"Benchmarking original model in FP32...\")\n",
    "    orig_time_fp32 = benchmark_model(model, test_loader, device, use_amp=False)\n",
    "\n",
    "    # Benchmark model in mixed precision (FP16)\n",
    "    print(\"Benchmarking model with mixed precision (FP16)...\")\n",
    "    orig_time_fp16 = benchmark_model(model, test_loader, device, use_amp=True)\n",
    "\n",
    "    # Calculate speedup between FP32 and FP16\n",
    "    speedup = orig_time_fp32 / orig_time_fp16\n",
    "    \n",
    "    # Print results for both precision settings and speedup\n",
    "    print(\"\\nResults:\")\n",
    "    print(f\"Original model inference time (FP32): {orig_time_fp32 * 1000:.2f} ms\")\n",
    "    print(f\"Mixed precision model inference time (FP16): {orig_time_fp16 * 1000:.2f} ms\")\n",
    "    print(f\"Speedup from FP32 to FP16: {speedup:.2f}x\")\n",
    "\n",
    "    # Plotting the results\n",
    "    plt.figure(figsize=(10, 5))\n",
    "    labels = ['FP32', 'FP16']\n",
    "    times = [orig_time_fp32 * 1000, orig_time_fp16 * 1000]  # Convert to milliseconds\n",
    "    colors = ['skyblue', 'lightgreen']\n",
    "    \n",
    "    # Plot a bar chart for FP32 and FP16 inference times\n",
    "    bars = plt.bar(labels, times, color=colors)\n",
    "    plt.ylabel('Inference Time (ms)')\n",
    "    plt.title('Inference Time Comparison: FP32 vs FP16')\n",
    "    \n",
    "    # Add inference time text on each bar\n",
    "    for bar, time in zip(bars, times):\n",
    "        plt.text(bar.get_x() + bar.get_width() / 2, bar.get_height() / 2, \n",
    "                 f\"{time:.2f} ms\", ha='center', va='center', color='black', fontsize=12)\n",
    "    \n",
    "    # Display speedup text on the plot\n",
    "    plt.figtext(0.8, 0.8, f\"Speedup: {speedup:.2f}x\", fontsize=12, ha='right')\n",
    "\n",
    "    # Save the plot as an image file and display it\n",
    "    plt.savefig(\"inference.png\")  # Save the figure as \"inference.png\"\n",
    "    plt.show()  # Show the plot\n"
   ]
  },
  {
   "cell_type": "code",
   "execution_count": 24,
   "id": "f3c6fc5c",
   "metadata": {},
   "outputs": [
    {
     "name": "stderr",
     "output_type": "stream",
     "text": [
      "Using cache found in .cache/hub/facebookresearch_dinov2_main\n",
      "/home/z004x2xz/miscExcersises/himanshushukla12/ML-Engineer-Challenge/.cache/hub/facebookresearch_dinov2_main/dinov2/layers/swiglu_ffn.py:43: UserWarning: xFormers is available (SwiGLU)\n",
      "  warnings.warn(\"xFormers is available (SwiGLU)\")\n",
      "/home/z004x2xz/miscExcersises/himanshushukla12/ML-Engineer-Challenge/.cache/hub/facebookresearch_dinov2_main/dinov2/layers/attention.py:27: UserWarning: xFormers is available (Attention)\n",
      "  warnings.warn(\"xFormers is available (Attention)\")\n",
      "/home/z004x2xz/miscExcersises/himanshushukla12/ML-Engineer-Challenge/.cache/hub/facebookresearch_dinov2_main/dinov2/layers/block.py:33: UserWarning: xFormers is available (Block)\n",
      "  warnings.warn(\"xFormers is available (Block)\")\n"
     ]
    },
    {
     "name": "stdout",
     "output_type": "stream",
     "text": [
      "Benchmarking original model in FP32...\n"
     ]
    },
    {
     "name": "stderr",
     "output_type": "stream",
     "text": [
      "/tmp/ipykernel_577508/1704632255.py:21: FutureWarning: `torch.cuda.amp.autocast(args...)` is deprecated. Please use `torch.amp.autocast('cuda', args...)` instead.\n",
      "  with torch.cuda.amp.autocast(enabled=use_amp):  # Mixed precision context\n"
     ]
    },
    {
     "name": "stdout",
     "output_type": "stream",
     "text": [
      "Benchmarking model with mixed precision (FP16)...\n",
      "\n",
      "Results:\n",
      "Original model inference time (FP32): 17.71 ms\n",
      "Mixed precision model inference time (FP16): 8.19 ms\n",
      "Speedup from FP32 to FP16: 2.16x\n"
     ]
    },
    {
     "data": {
      "image/png": "[encoded data removed]",
      "text/plain": [
       "<Figure size 1000x500 with 1 Axes>"
      ]
     },
     "metadata": {},
     "output_type": "display_data"
    }
   ],
   "source": [
    "main()"
   ]
  },
  {
   "cell_type": "code",
   "execution_count": null,
   "id": "07ceb527",
   "metadata": {},
   "outputs": [],
   "source": []
  }
 ],
 "metadata": {
  "kernelspec": {
   "display_name": "Python 3 (ipykernel)",
   "language": "python",
   "name": "python3"
  },
  "language_info": {
   "codemirror_mode": {
    "name": "ipython",
    "version": 3
   },
   "file_extension": ".py",
   "mimetype": "text/x-python",
   "name": "python",
   "nbconvert_exporter": "python",
   "pygments_lexer": "ipython3",
   "version": "3.11.9"
  }
 },
 "nbformat": 4,
 "nbformat_minor": 5
}
